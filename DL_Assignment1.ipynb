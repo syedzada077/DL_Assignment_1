{
  "nbformat": 4,
  "nbformat_minor": 0,
  "metadata": {
    "colab": {
      "provenance": [],
      "authorship_tag": "ABX9TyNpQ3kpBNMgqcfv+3taUT9R",
      "include_colab_link": true
    },
    "kernelspec": {
      "name": "python3",
      "display_name": "Python 3"
    },
    "language_info": {
      "name": "python"
    }
  },
  "cells": [
    {
      "cell_type": "markdown",
      "metadata": {
        "id": "view-in-github",
        "colab_type": "text"
      },
      "source": [
        "<a href=\"https://colab.research.google.com/github/syedzada077/DL_Assignment_1/blob/main/DL_Assignment1.ipynb\" target=\"_parent\"><img src=\"https://colab.research.google.com/assets/colab-badge.svg\" alt=\"Open In Colab\"/></a>"
      ]
    },
    {
      "cell_type": "code",
      "execution_count": 1,
      "metadata": {
        "id": "E2AEi1vYZdDZ"
      },
      "outputs": [],
      "source": [
        "import numpy as np\n",
        "import pandas as pd\n",
        "import matplotlib.pyplot as plt\n",
        "import seaborn as sns\n",
        "import tensorflow as tf\n",
        "from tensorflow.keras.models import Sequential\n",
        "from tensorflow.keras.layers import Conv1D, MaxPooling1D, Flatten, Dense, Dropout, Embedding\n",
        "from tensorflow.keras.preprocessing.text import Tokenizer\n",
        "from tensorflow.keras.preprocessing.sequence import pad_sequences\n",
        "from sklearn.model_selection import train_test_split\n",
        "from sklearn.preprocessing import LabelEncoder\n",
        "from google.colab import drive"
      ]
    },
    {
      "cell_type": "code",
      "source": [
        "drive.mount('/content/drive')"
      ],
      "metadata": {
        "colab": {
          "base_uri": "https://localhost:8080/"
        },
        "id": "Cx_TijrWZeMQ",
        "outputId": "35b3ca01-1ab1-4dab-a219-d78717557e08"
      },
      "execution_count": 2,
      "outputs": [
        {
          "output_type": "stream",
          "name": "stdout",
          "text": [
            "Mounted at /content/drive\n"
          ]
        }
      ]
    },
    {
      "cell_type": "code",
      "source": [
        "data_path = '/content/drive/MyDrive/sports/sports.csv'  # Change this to your CSV file path\n",
        "df = pd.read_csv(data_path)"
      ],
      "metadata": {
        "id": "kZh_C8y6Zp8A"
      },
      "execution_count": 3,
      "outputs": []
    },
    {
      "cell_type": "code",
      "source": [
        "df.head()"
      ],
      "metadata": {
        "colab": {
          "base_uri": "https://localhost:8080/",
          "height": 293
        },
        "id": "bMtUKXn1Z1ap",
        "outputId": "76e5a6c4-fa46-4655-b207-97fb7540353e"
      },
      "execution_count": 4,
      "outputs": [
        {
          "output_type": "execute_result",
          "data": {
            "text/plain": [
              "                                                text          time  upvote  \\\n",
              "0                   r/nfl's annual crash reddit day.  1.486332e+09   731.0   \n",
              "1  Fuck the people that don't pay attention to fo...  1.486334e+09   488.0   \n",
              "2                          I'M FUCKING SCARED. FUCK.  1.486331e+09   217.0   \n",
              "3                                          [deleted]  1.486331e+09   637.0   \n",
              "4  Last game of the season. Gentleman, it has bee...  1.486331e+09   242.0   \n",
              "\n",
              "               flair     sport  phase category  \\\n",
              "0    :Ravens: Ravens  Football      1        N   \n",
              "1                NaN  Football      1        N   \n",
              "2  :Falcons: Falcons  Football      1       1U   \n",
              "3                NaN  Football      1        N   \n",
              "4    :Eagles: Eagles  Football      1        N   \n",
              "\n",
              "                                             context  \\\n",
              "0  Patriots 34 - 28 Falcons (OT) - 2017 Super Bow...   \n",
              "1  Patriots 34 - 28 Falcons (OT) - 2017 Super Bow...   \n",
              "2  Patriots 34 - 28 Falcons (OT) - 2017 Super Bow...   \n",
              "3  Patriots 34 - 28 Falcons (OT) - 2017 Super Bow...   \n",
              "4  Patriots 34 - 28 Falcons (OT) - 2017 Super Bow...   \n",
              "\n",
              "                                      extracted_text sentiment  \n",
              "0                   r/nfl's annual crash reddit day.   neutral  \n",
              "1  Fuck the people that don't pay attention to fo...  negative  \n",
              "2                          I'M FUCKING SCARED. FUCK.  negative  \n",
              "3                                          [deleted]   neutral  \n",
              "4                 Last game of the season. Gentleman  negative  "
            ],
            "text/html": [
              "\n",
              "  <div id=\"df-bb34f8d0-7b91-4401-8e63-17445d390199\" class=\"colab-df-container\">\n",
              "    <div>\n",
              "<style scoped>\n",
              "    .dataframe tbody tr th:only-of-type {\n",
              "        vertical-align: middle;\n",
              "    }\n",
              "\n",
              "    .dataframe tbody tr th {\n",
              "        vertical-align: top;\n",
              "    }\n",
              "\n",
              "    .dataframe thead th {\n",
              "        text-align: right;\n",
              "    }\n",
              "</style>\n",
              "<table border=\"1\" class=\"dataframe\">\n",
              "  <thead>\n",
              "    <tr style=\"text-align: right;\">\n",
              "      <th></th>\n",
              "      <th>text</th>\n",
              "      <th>time</th>\n",
              "      <th>upvote</th>\n",
              "      <th>flair</th>\n",
              "      <th>sport</th>\n",
              "      <th>phase</th>\n",
              "      <th>category</th>\n",
              "      <th>context</th>\n",
              "      <th>extracted_text</th>\n",
              "      <th>sentiment</th>\n",
              "    </tr>\n",
              "  </thead>\n",
              "  <tbody>\n",
              "    <tr>\n",
              "      <th>0</th>\n",
              "      <td>r/nfl's annual crash reddit day.</td>\n",
              "      <td>1.486332e+09</td>\n",
              "      <td>731.0</td>\n",
              "      <td>:Ravens: Ravens</td>\n",
              "      <td>Football</td>\n",
              "      <td>1</td>\n",
              "      <td>N</td>\n",
              "      <td>Patriots 34 - 28 Falcons (OT) - 2017 Super Bow...</td>\n",
              "      <td>r/nfl's annual crash reddit day.</td>\n",
              "      <td>neutral</td>\n",
              "    </tr>\n",
              "    <tr>\n",
              "      <th>1</th>\n",
              "      <td>Fuck the people that don't pay attention to fo...</td>\n",
              "      <td>1.486334e+09</td>\n",
              "      <td>488.0</td>\n",
              "      <td>NaN</td>\n",
              "      <td>Football</td>\n",
              "      <td>1</td>\n",
              "      <td>N</td>\n",
              "      <td>Patriots 34 - 28 Falcons (OT) - 2017 Super Bow...</td>\n",
              "      <td>Fuck the people that don't pay attention to fo...</td>\n",
              "      <td>negative</td>\n",
              "    </tr>\n",
              "    <tr>\n",
              "      <th>2</th>\n",
              "      <td>I'M FUCKING SCARED. FUCK.</td>\n",
              "      <td>1.486331e+09</td>\n",
              "      <td>217.0</td>\n",
              "      <td>:Falcons: Falcons</td>\n",
              "      <td>Football</td>\n",
              "      <td>1</td>\n",
              "      <td>1U</td>\n",
              "      <td>Patriots 34 - 28 Falcons (OT) - 2017 Super Bow...</td>\n",
              "      <td>I'M FUCKING SCARED. FUCK.</td>\n",
              "      <td>negative</td>\n",
              "    </tr>\n",
              "    <tr>\n",
              "      <th>3</th>\n",
              "      <td>[deleted]</td>\n",
              "      <td>1.486331e+09</td>\n",
              "      <td>637.0</td>\n",
              "      <td>NaN</td>\n",
              "      <td>Football</td>\n",
              "      <td>1</td>\n",
              "      <td>N</td>\n",
              "      <td>Patriots 34 - 28 Falcons (OT) - 2017 Super Bow...</td>\n",
              "      <td>[deleted]</td>\n",
              "      <td>neutral</td>\n",
              "    </tr>\n",
              "    <tr>\n",
              "      <th>4</th>\n",
              "      <td>Last game of the season. Gentleman, it has bee...</td>\n",
              "      <td>1.486331e+09</td>\n",
              "      <td>242.0</td>\n",
              "      <td>:Eagles: Eagles</td>\n",
              "      <td>Football</td>\n",
              "      <td>1</td>\n",
              "      <td>N</td>\n",
              "      <td>Patriots 34 - 28 Falcons (OT) - 2017 Super Bow...</td>\n",
              "      <td>Last game of the season. Gentleman</td>\n",
              "      <td>negative</td>\n",
              "    </tr>\n",
              "  </tbody>\n",
              "</table>\n",
              "</div>\n",
              "    <div class=\"colab-df-buttons\">\n",
              "\n",
              "  <div class=\"colab-df-container\">\n",
              "    <button class=\"colab-df-convert\" onclick=\"convertToInteractive('df-bb34f8d0-7b91-4401-8e63-17445d390199')\"\n",
              "            title=\"Convert this dataframe to an interactive table.\"\n",
              "            style=\"display:none;\">\n",
              "\n",
              "  <svg xmlns=\"http://www.w3.org/2000/svg\" height=\"24px\" viewBox=\"0 -960 960 960\">\n",
              "    <path d=\"M120-120v-720h720v720H120Zm60-500h600v-160H180v160Zm220 220h160v-160H400v160Zm0 220h160v-160H400v160ZM180-400h160v-160H180v160Zm440 0h160v-160H620v160ZM180-180h160v-160H180v160Zm440 0h160v-160H620v160Z\"/>\n",
              "  </svg>\n",
              "    </button>\n",
              "\n",
              "  <style>\n",
              "    .colab-df-container {\n",
              "      display:flex;\n",
              "      gap: 12px;\n",
              "    }\n",
              "\n",
              "    .colab-df-convert {\n",
              "      background-color: #E8F0FE;\n",
              "      border: none;\n",
              "      border-radius: 50%;\n",
              "      cursor: pointer;\n",
              "      display: none;\n",
              "      fill: #1967D2;\n",
              "      height: 32px;\n",
              "      padding: 0 0 0 0;\n",
              "      width: 32px;\n",
              "    }\n",
              "\n",
              "    .colab-df-convert:hover {\n",
              "      background-color: #E2EBFA;\n",
              "      box-shadow: 0px 1px 2px rgba(60, 64, 67, 0.3), 0px 1px 3px 1px rgba(60, 64, 67, 0.15);\n",
              "      fill: #174EA6;\n",
              "    }\n",
              "\n",
              "    .colab-df-buttons div {\n",
              "      margin-bottom: 4px;\n",
              "    }\n",
              "\n",
              "    [theme=dark] .colab-df-convert {\n",
              "      background-color: #3B4455;\n",
              "      fill: #D2E3FC;\n",
              "    }\n",
              "\n",
              "    [theme=dark] .colab-df-convert:hover {\n",
              "      background-color: #434B5C;\n",
              "      box-shadow: 0px 1px 3px 1px rgba(0, 0, 0, 0.15);\n",
              "      filter: drop-shadow(0px 1px 2px rgba(0, 0, 0, 0.3));\n",
              "      fill: #FFFFFF;\n",
              "    }\n",
              "  </style>\n",
              "\n",
              "    <script>\n",
              "      const buttonEl =\n",
              "        document.querySelector('#df-bb34f8d0-7b91-4401-8e63-17445d390199 button.colab-df-convert');\n",
              "      buttonEl.style.display =\n",
              "        google.colab.kernel.accessAllowed ? 'block' : 'none';\n",
              "\n",
              "      async function convertToInteractive(key) {\n",
              "        const element = document.querySelector('#df-bb34f8d0-7b91-4401-8e63-17445d390199');\n",
              "        const dataTable =\n",
              "          await google.colab.kernel.invokeFunction('convertToInteractive',\n",
              "                                                    [key], {});\n",
              "        if (!dataTable) return;\n",
              "\n",
              "        const docLinkHtml = 'Like what you see? Visit the ' +\n",
              "          '<a target=\"_blank\" href=https://colab.research.google.com/notebooks/data_table.ipynb>data table notebook</a>'\n",
              "          + ' to learn more about interactive tables.';\n",
              "        element.innerHTML = '';\n",
              "        dataTable['output_type'] = 'display_data';\n",
              "        await google.colab.output.renderOutput(dataTable, element);\n",
              "        const docLink = document.createElement('div');\n",
              "        docLink.innerHTML = docLinkHtml;\n",
              "        element.appendChild(docLink);\n",
              "      }\n",
              "    </script>\n",
              "  </div>\n",
              "\n",
              "\n",
              "<div id=\"df-5a2261c7-9f11-4119-a559-54ba1d7653d4\">\n",
              "  <button class=\"colab-df-quickchart\" onclick=\"quickchart('df-5a2261c7-9f11-4119-a559-54ba1d7653d4')\"\n",
              "            title=\"Suggest charts\"\n",
              "            style=\"display:none;\">\n",
              "\n",
              "<svg xmlns=\"http://www.w3.org/2000/svg\" height=\"24px\"viewBox=\"0 0 24 24\"\n",
              "     width=\"24px\">\n",
              "    <g>\n",
              "        <path d=\"M19 3H5c-1.1 0-2 .9-2 2v14c0 1.1.9 2 2 2h14c1.1 0 2-.9 2-2V5c0-1.1-.9-2-2-2zM9 17H7v-7h2v7zm4 0h-2V7h2v10zm4 0h-2v-4h2v4z\"/>\n",
              "    </g>\n",
              "</svg>\n",
              "  </button>\n",
              "\n",
              "<style>\n",
              "  .colab-df-quickchart {\n",
              "      --bg-color: #E8F0FE;\n",
              "      --fill-color: #1967D2;\n",
              "      --hover-bg-color: #E2EBFA;\n",
              "      --hover-fill-color: #174EA6;\n",
              "      --disabled-fill-color: #AAA;\n",
              "      --disabled-bg-color: #DDD;\n",
              "  }\n",
              "\n",
              "  [theme=dark] .colab-df-quickchart {\n",
              "      --bg-color: #3B4455;\n",
              "      --fill-color: #D2E3FC;\n",
              "      --hover-bg-color: #434B5C;\n",
              "      --hover-fill-color: #FFFFFF;\n",
              "      --disabled-bg-color: #3B4455;\n",
              "      --disabled-fill-color: #666;\n",
              "  }\n",
              "\n",
              "  .colab-df-quickchart {\n",
              "    background-color: var(--bg-color);\n",
              "    border: none;\n",
              "    border-radius: 50%;\n",
              "    cursor: pointer;\n",
              "    display: none;\n",
              "    fill: var(--fill-color);\n",
              "    height: 32px;\n",
              "    padding: 0;\n",
              "    width: 32px;\n",
              "  }\n",
              "\n",
              "  .colab-df-quickchart:hover {\n",
              "    background-color: var(--hover-bg-color);\n",
              "    box-shadow: 0 1px 2px rgba(60, 64, 67, 0.3), 0 1px 3px 1px rgba(60, 64, 67, 0.15);\n",
              "    fill: var(--button-hover-fill-color);\n",
              "  }\n",
              "\n",
              "  .colab-df-quickchart-complete:disabled,\n",
              "  .colab-df-quickchart-complete:disabled:hover {\n",
              "    background-color: var(--disabled-bg-color);\n",
              "    fill: var(--disabled-fill-color);\n",
              "    box-shadow: none;\n",
              "  }\n",
              "\n",
              "  .colab-df-spinner {\n",
              "    border: 2px solid var(--fill-color);\n",
              "    border-color: transparent;\n",
              "    border-bottom-color: var(--fill-color);\n",
              "    animation:\n",
              "      spin 1s steps(1) infinite;\n",
              "  }\n",
              "\n",
              "  @keyframes spin {\n",
              "    0% {\n",
              "      border-color: transparent;\n",
              "      border-bottom-color: var(--fill-color);\n",
              "      border-left-color: var(--fill-color);\n",
              "    }\n",
              "    20% {\n",
              "      border-color: transparent;\n",
              "      border-left-color: var(--fill-color);\n",
              "      border-top-color: var(--fill-color);\n",
              "    }\n",
              "    30% {\n",
              "      border-color: transparent;\n",
              "      border-left-color: var(--fill-color);\n",
              "      border-top-color: var(--fill-color);\n",
              "      border-right-color: var(--fill-color);\n",
              "    }\n",
              "    40% {\n",
              "      border-color: transparent;\n",
              "      border-right-color: var(--fill-color);\n",
              "      border-top-color: var(--fill-color);\n",
              "    }\n",
              "    60% {\n",
              "      border-color: transparent;\n",
              "      border-right-color: var(--fill-color);\n",
              "    }\n",
              "    80% {\n",
              "      border-color: transparent;\n",
              "      border-right-color: var(--fill-color);\n",
              "      border-bottom-color: var(--fill-color);\n",
              "    }\n",
              "    90% {\n",
              "      border-color: transparent;\n",
              "      border-bottom-color: var(--fill-color);\n",
              "    }\n",
              "  }\n",
              "</style>\n",
              "\n",
              "  <script>\n",
              "    async function quickchart(key) {\n",
              "      const quickchartButtonEl =\n",
              "        document.querySelector('#' + key + ' button');\n",
              "      quickchartButtonEl.disabled = true;  // To prevent multiple clicks.\n",
              "      quickchartButtonEl.classList.add('colab-df-spinner');\n",
              "      try {\n",
              "        const charts = await google.colab.kernel.invokeFunction(\n",
              "            'suggestCharts', [key], {});\n",
              "      } catch (error) {\n",
              "        console.error('Error during call to suggestCharts:', error);\n",
              "      }\n",
              "      quickchartButtonEl.classList.remove('colab-df-spinner');\n",
              "      quickchartButtonEl.classList.add('colab-df-quickchart-complete');\n",
              "    }\n",
              "    (() => {\n",
              "      let quickchartButtonEl =\n",
              "        document.querySelector('#df-5a2261c7-9f11-4119-a559-54ba1d7653d4 button');\n",
              "      quickchartButtonEl.style.display =\n",
              "        google.colab.kernel.accessAllowed ? 'block' : 'none';\n",
              "    })();\n",
              "  </script>\n",
              "</div>\n",
              "\n",
              "    </div>\n",
              "  </div>\n"
            ],
            "application/vnd.google.colaboratory.intrinsic+json": {
              "type": "dataframe",
              "variable_name": "df",
              "summary": "{\n  \"name\": \"df\",\n  \"rows\": 62712,\n  \"fields\": [\n    {\n      \"column\": \"text\",\n      \"properties\": {\n        \"dtype\": \"string\",\n        \"num_unique_values\": 60640,\n        \"samples\": [\n          \"Tyreek getting beat worse than his son.\",\n          \"I wish the Rock was my hype man\",\n          \"Now blinded by the lights is stuck in my head for the rest of the game\"\n        ],\n        \"semantic_type\": \"\",\n        \"description\": \"\"\n      }\n    },\n    {\n      \"column\": \"time\",\n      \"properties\": {\n        \"dtype\": \"number\",\n        \"std\": 101815402.55026533,\n        \"min\": 1359902663.0,\n        \"max\": 1676335181.0,\n        \"num_unique_values\": 47447,\n        \"samples\": [\n          1644799672.0,\n          1644809635.0,\n          1644819044.0\n        ],\n        \"semantic_type\": \"\",\n        \"description\": \"\"\n      }\n    },\n    {\n      \"column\": \"upvote\",\n      \"properties\": {\n        \"dtype\": \"number\",\n        \"std\": 245.39604275847503,\n        \"min\": -52.0,\n        \"max\": 14643.0,\n        \"num_unique_values\": 964,\n        \"samples\": [\n          1695.0,\n          1733.0,\n          708.0\n        ],\n        \"semantic_type\": \"\",\n        \"description\": \"\"\n      }\n    },\n    {\n      \"column\": \"flair\",\n      \"properties\": {\n        \"dtype\": \"category\",\n        \"num_unique_values\": 422,\n        \"samples\": [\n          \":Panthers: Panthers :Commanders: Commanders\",\n          \":Cowboys: Cowboys :Eagles: Eagles\",\n          \":Broncos: Broncos :Eagles: Eagles\"\n        ],\n        \"semantic_type\": \"\",\n        \"description\": \"\"\n      }\n    },\n    {\n      \"column\": \"sport\",\n      \"properties\": {\n        \"dtype\": \"category\",\n        \"num_unique_values\": 1,\n        \"samples\": [\n          \"Football\"\n        ],\n        \"semantic_type\": \"\",\n        \"description\": \"\"\n      }\n    },\n    {\n      \"column\": \"phase\",\n      \"properties\": {\n        \"dtype\": \"number\",\n        \"std\": 0,\n        \"min\": 1,\n        \"max\": 3,\n        \"num_unique_values\": 3,\n        \"samples\": [\n          1\n        ],\n        \"semantic_type\": \"\",\n        \"description\": \"\"\n      }\n    },\n    {\n      \"column\": \"category\",\n      \"properties\": {\n        \"dtype\": \"category\",\n        \"num_unique_values\": 9,\n        \"samples\": [\n          \"4U\"\n        ],\n        \"semantic_type\": \"\",\n        \"description\": \"\"\n      }\n    },\n    {\n      \"column\": \"context\",\n      \"properties\": {\n        \"dtype\": \"category\",\n        \"num_unique_values\": 10,\n        \"samples\": [\n          \"Broncos 24 - 10 Panthers - 2016 Super Bowl MVP: Von Miller\"\n        ],\n        \"semantic_type\": \"\",\n        \"description\": \"\"\n      }\n    },\n    {\n      \"column\": \"extracted_text\",\n      \"properties\": {\n        \"dtype\": \"string\",\n        \"num_unique_values\": 58828,\n        \"samples\": [\n          \"He also got flattened like a pancake by Walker.\"\n        ],\n        \"semantic_type\": \"\",\n        \"description\": \"\"\n      }\n    },\n    {\n      \"column\": \"sentiment\",\n      \"properties\": {\n        \"dtype\": \"category\",\n        \"num_unique_values\": 3,\n        \"samples\": [\n          \"neutral\"\n        ],\n        \"semantic_type\": \"\",\n        \"description\": \"\"\n      }\n    }\n  ]\n}"
            }
          },
          "metadata": {},
          "execution_count": 4
        }
      ]
    },
    {
      "cell_type": "code",
      "source": [
        "text_data = df['text'].astype(str)\n",
        "sentiment_labels = df['sentiment']"
      ],
      "metadata": {
        "id": "e1RXVp1sZ4rk"
      },
      "execution_count": 5,
      "outputs": []
    },
    {
      "cell_type": "code",
      "source": [
        "label_encoder = LabelEncoder()\n",
        "encoded_labels = label_encoder.fit_transform(sentiment_labels)"
      ],
      "metadata": {
        "id": "I_o8c_OqaFlS"
      },
      "execution_count": 6,
      "outputs": []
    },
    {
      "cell_type": "code",
      "source": [
        "tokenizer = Tokenizer(num_words=5000)  # Limit to 5000 words\n",
        "tokenizer.fit_on_texts(text_data)\n",
        "sequences = tokenizer.texts_to_sequences(text_data)"
      ],
      "metadata": {
        "id": "Rb6QQFiKaIgH"
      },
      "execution_count": 7,
      "outputs": []
    },
    {
      "cell_type": "code",
      "source": [
        "# Pad sequences to ensure uniform input size\n",
        "max_length = 100  # Define max length of sequences\n",
        "padded_sequences = pad_sequences(sequences, maxlen=max_length)"
      ],
      "metadata": {
        "id": "Wu_INPwyaKZf"
      },
      "execution_count": 8,
      "outputs": []
    },
    {
      "cell_type": "code",
      "source": [
        "# Step 4: Split the data into training and testing sets (80/20 split)\n",
        "X_train, X_test, y_train, y_test = train_test_split(\n",
        "    padded_sequences, encoded_labels, test_size=0.2, random_state=42, shuffle=True\n",
        ")"
      ],
      "metadata": {
        "id": "rYoAEgsAaNX7"
      },
      "execution_count": 9,
      "outputs": []
    },
    {
      "cell_type": "code",
      "source": [
        "# Check the size of the training and testing sets\n",
        "print(f\"Training data size: {len(X_train)}\")\n",
        "print(f\"Testing data size: {len(X_test)}\")"
      ],
      "metadata": {
        "colab": {
          "base_uri": "https://localhost:8080/"
        },
        "id": "euL5ICQ1aQW1",
        "outputId": "661c2c68-293c-4ece-92a6-eeecf6e4e9c4"
      },
      "execution_count": 10,
      "outputs": [
        {
          "output_type": "stream",
          "name": "stdout",
          "text": [
            "Training data size: 50169\n",
            "Testing data size: 12543\n"
          ]
        }
      ]
    },
    {
      "cell_type": "code",
      "source": [
        "# Define the CNN model architecture\n",
        "model = Sequential()\n",
        "model.add(Embedding(input_dim=5000, output_dim=128, input_length=max_length))  # Embedding layer\n",
        "model.add(Conv1D(filters=64, kernel_size=3, activation='relu'))  # Convolutional layer\n",
        "model.add(MaxPooling1D(pool_size=2))  # Pooling layer\n",
        "model.add(Conv1D(filters=128, kernel_size=3, activation='relu'))  # Convolutional layer\n",
        "model.add(MaxPooling1D(pool_size=2))  # Pooling layer\n",
        "model.add(Flatten())  # Flatten the output\n",
        "model.add(Dense(128, activation='relu'))  # Fully connected layer\n",
        "model.add(Dropout(0.5))  # Dropout layer to reduce overfitting\n",
        "model.add(Dense(len(np.unique(encoded_labels)), activation='softmax'))  # Output layer for classification\n"
      ],
      "metadata": {
        "colab": {
          "base_uri": "https://localhost:8080/"
        },
        "id": "K3wC0tquaSnp",
        "outputId": "7ce7a2a3-e3e7-44f7-bf91-fa293d97c74d"
      },
      "execution_count": 11,
      "outputs": [
        {
          "output_type": "stream",
          "name": "stderr",
          "text": [
            "/usr/local/lib/python3.10/dist-packages/keras/src/layers/core/embedding.py:90: UserWarning: Argument `input_length` is deprecated. Just remove it.\n",
            "  warnings.warn(\n"
          ]
        }
      ]
    },
    {
      "cell_type": "code",
      "source": [
        "model.compile(optimizer='adam', loss='sparse_categorical_crossentropy', metrics=['accuracy'])\n"
      ],
      "metadata": {
        "id": "AQjGJ_5GaYe1"
      },
      "execution_count": 12,
      "outputs": []
    },
    {
      "cell_type": "code",
      "source": [
        "epochs = 5  # Number of iterations/epochs (start small, increase if needed)\n",
        "batch_size = 32  # Batch size"
      ],
      "metadata": {
        "id": "9YFUoSOFabLi"
      },
      "execution_count": 14,
      "outputs": []
    },
    {
      "cell_type": "code",
      "source": [
        "# Optional: Save the model after every epoch using ModelCheckpoint\n",
        "from tensorflow.keras.callbacks import ModelCheckpoint\n",
        "\n",
        "# Change the filepath to end with '.keras' instead of '.h5'\n",
        "checkpoint = ModelCheckpoint('/content/drive/MyDrive/cnn_model.keras', save_best_only=True, monitor='val_loss')"
      ],
      "metadata": {
        "id": "UvsBM4Zeak_0"
      },
      "execution_count": 16,
      "outputs": []
    },
    {
      "cell_type": "code",
      "source": [
        "history = model.fit(\n",
        "    X_train, y_train,\n",
        "    validation_data=(X_test, y_test),\n",
        "    epochs=epochs,\n",
        "    batch_size=batch_size,\n",
        "    callbacks=[checkpoint]\n",
        ")"
      ],
      "metadata": {
        "colab": {
          "base_uri": "https://localhost:8080/"
        },
        "id": "vmaIyAhDauGd",
        "outputId": "3c1fe685-c1b1-4728-9512-6c661d80ef92"
      },
      "execution_count": 17,
      "outputs": [
        {
          "output_type": "stream",
          "name": "stdout",
          "text": [
            "Epoch 1/5\n",
            "\u001b[1m1568/1568\u001b[0m \u001b[32m━━━━━━━━━━━━━━━━━━━━\u001b[0m\u001b[37m\u001b[0m \u001b[1m67s\u001b[0m 40ms/step - accuracy: 0.6132 - loss: 0.8900 - val_accuracy: 0.7400 - val_loss: 0.6839\n",
            "Epoch 2/5\n",
            "\u001b[1m1568/1568\u001b[0m \u001b[32m━━━━━━━━━━━━━━━━━━━━\u001b[0m\u001b[37m\u001b[0m \u001b[1m84s\u001b[0m 41ms/step - accuracy: 0.7588 - loss: 0.6510 - val_accuracy: 0.7472 - val_loss: 0.6686\n",
            "Epoch 3/5\n",
            "\u001b[1m1568/1568\u001b[0m \u001b[32m━━━━━━━━━━━━━━━━━━━━\u001b[0m\u001b[37m\u001b[0m \u001b[1m62s\u001b[0m 40ms/step - accuracy: 0.7839 - loss: 0.5716 - val_accuracy: 0.7426 - val_loss: 0.6960\n",
            "Epoch 4/5\n",
            "\u001b[1m1568/1568\u001b[0m \u001b[32m━━━━━━━━━━━━━━━━━━━━\u001b[0m\u001b[37m\u001b[0m \u001b[1m64s\u001b[0m 41ms/step - accuracy: 0.8178 - loss: 0.4843 - val_accuracy: 0.7263 - val_loss: 0.7747\n",
            "Epoch 5/5\n",
            "\u001b[1m1568/1568\u001b[0m \u001b[32m━━━━━━━━━━━━━━━━━━━━\u001b[0m\u001b[37m\u001b[0m \u001b[1m80s\u001b[0m 39ms/step - accuracy: 0.8500 - loss: 0.4041 - val_accuracy: 0.7138 - val_loss: 0.8923\n"
          ]
        }
      ]
    },
    {
      "cell_type": "code",
      "source": [
        "# Evaluate the model\n",
        "loss, accuracy = model.evaluate(X_test, y_test)\n",
        "print(f'Test Accuracy: {accuracy * 100:.2f}%')"
      ],
      "metadata": {
        "colab": {
          "base_uri": "https://localhost:8080/"
        },
        "id": "l9q43p1ebAyt",
        "outputId": "f303ec55-8d84-4a5f-fd4d-9e52f26440e3"
      },
      "execution_count": 18,
      "outputs": [
        {
          "output_type": "stream",
          "name": "stdout",
          "text": [
            "\u001b[1m392/392\u001b[0m \u001b[32m━━━━━━━━━━━━━━━━━━━━\u001b[0m\u001b[37m\u001b[0m \u001b[1m6s\u001b[0m 16ms/step - accuracy: 0.7057 - loss: 0.9281\n",
            "Test Accuracy: 71.38%\n"
          ]
        }
      ]
    },
    {
      "cell_type": "code",
      "source": [
        "# Plot training history\n",
        "plt.plot(history.history['accuracy'], label='Train Accuracy')\n",
        "plt.plot(history.history['val_accuracy'], label='Validation Accuracy')\n",
        "plt.xlabel('Epochs')\n",
        "plt.ylabel('Accuracy')\n",
        "plt.title('Model Accuracy')\n",
        "plt.legend()\n",
        "plt.show()\n"
      ],
      "metadata": {
        "colab": {
          "base_uri": "https://localhost:8080/",
          "height": 472
        },
        "id": "BztDBVRodC4d",
        "outputId": "e359e3ea-4ec3-4cc5-ae2b-2c1bae7a63c0"
      },
      "execution_count": 19,
      "outputs": [
        {
          "output_type": "display_data",
          "data": {
            "text/plain": [
              "<Figure size 640x480 with 1 Axes>"
            ],
            "image/png": "[encoded data removed]"
          },
          "metadata": {}
        }
      ]
    },
    {
      "cell_type": "code",
      "source": [
        "# Predict sentiments for the entire dataset\n",
        "all_sequences = tokenizer.texts_to_sequences(df['text'].astype(str))\n",
        "all_padded_sequences = pad_sequences(all_sequences, maxlen=max_length)\n",
        "\n",
        "# Make predictions\n",
        "all_predictions = model.predict(all_padded_sequences)\n",
        "predicted_classes = np.argmax(all_predictions, axis=1)\n",
        "\n",
        "# Decode the predicted sentiments\n",
        "predicted_sentiments = label_encoder.inverse_transform(predicted_classes)\n",
        "\n",
        "# Create a final DataFrame with original texts and predicted sentiments\n",
        "results_df = pd.DataFrame({\n",
        "    'Text': df['text'],\n",
        "    'Predicted Sentiment': predicted_sentiments\n",
        "})\n",
        "\n",
        "# Display the first few rows of the final table\n",
        "print(results_df.head())"
      ],
      "metadata": {
        "colab": {
          "base_uri": "https://localhost:8080/"
        },
        "id": "DbMPtnPMd1BF",
        "outputId": "5aad4062-49d7-42db-f478-f685735396c9"
      },
      "execution_count": 20,
      "outputs": [
        {
          "output_type": "stream",
          "name": "stdout",
          "text": [
            "\u001b[1m1960/1960\u001b[0m \u001b[32m━━━━━━━━━━━━━━━━━━━━\u001b[0m\u001b[37m\u001b[0m \u001b[1m20s\u001b[0m 10ms/step\n",
            "                                                Text Predicted Sentiment\n",
            "0                   r/nfl's annual crash reddit day.             neutral\n",
            "1  Fuck the people that don't pay attention to fo...            negative\n",
            "2                          I'M FUCKING SCARED. FUCK.            negative\n",
            "3                                          [deleted]             neutral\n",
            "4  Last game of the season. Gentleman, it has bee...            negative\n"
          ]
        }
      ]
    },
    {
      "cell_type": "code",
      "source": [],
      "metadata": {
        "id": "8dEDNe9be3wg"
      },
      "execution_count": null,
      "outputs": []
    }
  ]
}